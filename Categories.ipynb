{
 "cells": [
  {
   "cell_type": "code",
   "execution_count": null,
   "metadata": {},
   "outputs": [],
   "source": [
    "df1 = pd.read_json('sample.reviews.json')\n"
   ]
  },
  {
   "cell_type": "code",
   "execution_count": null,
   "metadata": {},
   "outputs": [],
   "source": [
    "def separate(lst):\n",
    "    output = []\n",
    "    if lst is None:\n",
    "        return\n",
    "    for i in lst:\n",
    "        output += i.split()\n",
    "    return output"
   ]
  },
  {
   "cell_type": "code",
   "execution_count": null,
   "metadata": {},
   "outputs": [],
   "source": [
    "# Separate categories\n",
    "df1['categories'] = df1['categories'].apply(separate)\n",
    "\n",
    "# Import\n",
    "df3 = pd.read_csv('yelp-category.csv')\n",
    "df3['Secondary Categories'] = df3['Secondary Categories'].apply(lambda x: x.split())\n",
    "\n",
    "# Separate elements of a list into one list on whitespace; i.e. ['a b', 'c d'] --> ['a', 'b', 'c', 'd']\n",
    "df3 = df3.groupby('Primary Categories').agg({'Secondary Categories': 'sum'}).reset_index()\n",
    "\n",
    "# Identify Group Categories\n",
    "primary_list = df3['Primary Categories'].value_counts().index.tolist()\n",
    "\n",
    "# Category List; Key is Primary Category, Value is List of Elements of Second Category\n",
    "cat_list = dict(zip(df3['Primary Categories'], df3['Secondary Categories']))\n",
    "\n",
    "# Introduce New Columns into original df\n",
    "for col in primary_list:\n",
    "    print(col) # progress bar\n",
    "    df1[col] = pd.Series([(lambda x: any(i in cat_list[col] for i in x))(x) \\\n",
    "                          for x in df1['categories'] if x is not None])\n",
    "# output\n",
    "df1"
   ]
  }
 ],
 "metadata": {
  "kernelspec": {
   "display_name": "Python 3",
   "language": "python",
   "name": "python3"
  },
  "language_info": {
   "codemirror_mode": {
    "name": "ipython",
    "version": 3
   },
   "file_extension": ".py",
   "mimetype": "text/x-python",
   "name": "python",
   "nbconvert_exporter": "python",
   "pygments_lexer": "ipython3",
   "version": "3.7.1"
  }
 },
 "nbformat": 4,
 "nbformat_minor": 2
}
